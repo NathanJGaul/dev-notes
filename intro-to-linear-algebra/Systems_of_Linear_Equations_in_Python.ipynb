{
  "nbformat": 4,
  "nbformat_minor": 0,
  "metadata": {
    "colab": {
      "provenance": [],
      "authorship_tag": "ABX9TyMViciH9pwBVD0oguhqat7o",
      "include_colab_link": true
    },
    "kernelspec": {
      "name": "python3",
      "display_name": "Python 3"
    },
    "language_info": {
      "name": "python"
    }
  },
  "cells": [
    {
      "cell_type": "markdown",
      "metadata": {
        "id": "view-in-github",
        "colab_type": "text"
      },
      "source": [
        "<a href=\"https://colab.research.google.com/github/NathanJGaul/dev-notes/blob/main/Systems_of_Linear_Equations_in_Python.ipynb\" target=\"_parent\"><img src=\"https://colab.research.google.com/assets/colab-badge.svg\" alt=\"Open In Colab\"/></a>"
      ]
    },
    {
      "cell_type": "code",
      "source": [
        "import numpy as np\n",
        "\n",
        "# Define the coefficients of the equations in a matrix A\n",
        "A = np.array([[1, -1], [4, -1]])\n",
        "\n",
        "# Define the constants in a vector b\n",
        "b = np.array([0, 120])\n",
        "\n",
        "# Solve the system of equations\n",
        "x = np.linalg.solve(A, b)\n",
        "\n",
        "print(x)"
      ],
      "metadata": {
        "colab": {
          "base_uri": "https://localhost:8080/"
        },
        "id": "KjwkopXGVyXO",
        "outputId": "b7c3a4b9-9579-4b89-f5cd-7436289e8119"
      },
      "execution_count": 5,
      "outputs": [
        {
          "output_type": "stream",
          "name": "stdout",
          "text": [
            "[40. 40.]\n"
          ]
        }
      ]
    }
  ]
}